{
 "cells": [
  {
   "cell_type": "markdown",
   "id": "8c1e7735-6d30-439a-8ddf-e5b26975bd41",
   "metadata": {},
   "source": [
    "# Data Sciences Tools and Ecosystem\n",
    "\n"
   ]
  },
  {
   "cell_type": "markdown",
   "id": "0835db43-4edb-4f17-b71f-8e59a3b09d61",
   "metadata": {},
   "source": [
    "In this Notebook, all the four modules that we learned in the IBM Data Sciense and Ecosystem course will be summarized to complete the final task and achieve a good grade \n",
    "------------------------------------------------------------------------------------------------------------------------"
   ]
  },
  {
   "cell_type": "markdown",
   "id": "72783321-2b35-41ed-b78f-bfa46138dab4",
   "metadata": {},
   "source": [
    "**Objectives**\n",
    "- List popular programming languages for Data Sience\n",
    "- Indetify some of the commons Data Sicence libraries\n",
    "- introduce popular Tools for Data Science\n",
    "- Perfom a simple operatios using Python languaje \n",
    "- Get familiar with Jupyterlab"
   ]
  },
  {
   "cell_type": "markdown",
   "id": "950b5dbf-355e-49d4-b123-c85f592d26e3",
   "metadata": {},
   "source": [
    "## Languages\n",
    "1. Python\n",
    "3. R\n",
    "3. SQL\n",
    "4. JAVA\n",
    "5. MATLAB"
   ]
  },
  {
   "cell_type": "markdown",
   "id": "327d604c-62bc-4fe8-bb3f-1fc379763f5e",
   "metadata": {},
   "source": [
    "Libraries\n",
    "---\n",
    "1. Numpy\n",
    "2. Pandas\n",
    "3. ggplot2\n",
    "4. dplyr"
   ]
  },
  {
   "cell_type": "markdown",
   "id": "ddcf9b57-5711-44ca-9411-2264fd7d5b05",
   "metadata": {},
   "source": [
    "| Data Science Tools |\n",
    "|------------------- |\n",
    "| JupyterNoteook     |\n",
    "| RStudio            |\n",
    "|Visual Studio Code  |\n"
   ]
  },
  {
   "cell_type": "markdown",
   "id": "157fd9be-069d-4d8d-8550-6b66fe66f993",
   "metadata": {},
   "source": [
    "### Below are few examples of evaluating arithmetic expressions in python"
   ]
  },
  {
   "cell_type": "code",
   "execution_count": 2,
   "id": "3529ca42-48fe-4dce-a82d-495a2bf12d46",
   "metadata": {},
   "outputs": [
    {
     "data": {
      "text/plain": [
       "17"
      ]
     },
     "execution_count": 2,
     "metadata": {},
     "output_type": "execute_result"
    }
   ],
   "source": [
    "# this is a simple arithmetic expression to multiply the add integers\n",
    "(3*4)+5"
   ]
  },
  {
   "cell_type": "code",
   "execution_count": 3,
   "id": "1292721b-4e64-4de3-8581-e320cfb728e5",
   "metadata": {},
   "outputs": [
    {
     "data": {
      "text/plain": [
       "3.3333333333333335"
      ]
     },
     "execution_count": 3,
     "metadata": {},
     "output_type": "execute_result"
    }
   ],
   "source": [
    "#this will covert 200 minutes to shpur by dividing by 60\n",
    "200/60"
   ]
  },
  {
   "cell_type": "markdown",
   "id": "2628df38-dc75-438d-889b-e11d278b601f",
   "metadata": {},
   "source": [
    "# Luis Andres Jimenez Chargoy"
   ]
  },
  {
   "cell_type": "code",
   "execution_count": null,
   "id": "96a225fb-80e8-4cf3-8230-71bb73a33841",
   "metadata": {},
   "outputs": [],
   "source": []
  }
 ],
 "metadata": {
  "kernelspec": {
   "display_name": "Python 3 (ipykernel)",
   "language": "python",
   "name": "python3"
  },
  "language_info": {
   "codemirror_mode": {
    "name": "ipython",
    "version": 3
   },
   "file_extension": ".py",
   "mimetype": "text/x-python",
   "name": "python",
   "nbconvert_exporter": "python",
   "pygments_lexer": "ipython3",
   "version": "3.9.13"
  }
 },
 "nbformat": 4,
 "nbformat_minor": 5
}
